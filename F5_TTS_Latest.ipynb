{
  "nbformat": 4,
  "nbformat_minor": 0,
  "metadata": {
    "colab": {
      "provenance": [],
      "gpuType": "T4"
    },
    "kernelspec": {
      "name": "python3",
      "display_name": "Python 3"
    },
    "language_info": {
      "name": "python"
    },
    "accelerator": "GPU"
  },
  "cells": [
    {
      "cell_type": "code",
      "source": [
        "# !nvcc --version\n",
        "# https://pytorch.org/get-started/locally/\n",
        "# pip3 install torch torchvision torchaudio --index-url https://download.pytorch.org/whl/cu124\n"
      ],
      "metadata": {
        "id": "4v37Tp3_dI7l"
      },
      "execution_count": 2,
      "outputs": []
    },
    {
      "cell_type": "code",
      "source": [
        "\n",
        "!pip install git+https://github.com/SWivid/F5-TTS.git\n",
        "from IPython.display import clear_output\n",
        "clear_output()"
      ],
      "metadata": {
        "id": "JzP3NJkiW9Em"
      },
      "execution_count": 3,
      "outputs": []
    },
    {
      "cell_type": "code",
      "execution_count": null,
      "metadata": {
        "id": "dB3clv5KWtQG",
        "outputId": "38667aa1-4728-4752-d6de-e8d452fd1fbc",
        "colab": {
          "base_uri": "https://localhost:8080/"
        }
      },
      "outputs": [
        {
          "output_type": "stream",
          "name": "stdout",
          "text": [
            "2025-06-03 07:47:51.438826: E external/local_xla/xla/stream_executor/cuda/cuda_fft.cc:477] Unable to register cuFFT factory: Attempting to register factory for plugin cuFFT when one has already been registered\n",
            "WARNING: All log messages before absl::InitializeLog() is called are written to STDERR\n",
            "E0000 00:00:1748936871.684504    1212 cuda_dnn.cc:8310] Unable to register cuDNN factory: Attempting to register factory for plugin cuDNN when one has already been registered\n",
            "E0000 00:00:1748936871.748518    1212 cuda_blas.cc:1418] Unable to register cuBLAS factory: Attempting to register factory for plugin cuBLAS when one has already been registered\n",
            "2025-06-03 07:47:52.266911: I tensorflow/core/platform/cpu_feature_guard.cc:210] This TensorFlow binary is optimized to use available CPU instructions in performance-critical operations.\n",
            "To enable the following instructions: AVX2 AVX512F FMA, in other operations, rebuild TensorFlow with the appropriate compiler flags.\n",
            "Download Vocos from huggingface charactr/vocos-mel-24khz\n",
            "config.yaml: 100% 461/461 [00:00<00:00, 3.13MB/s]\n",
            "Xet Storage is enabled for this repo, but the 'hf_xet' package is not installed. Falling back to regular HTTP download. For better performance, install the package with: `pip install huggingface_hub[hf_xet]` or `pip install hf_xet`\n",
            "WARNING:huggingface_hub.file_download:Xet Storage is enabled for this repo, but the 'hf_xet' package is not installed. Falling back to regular HTTP download. For better performance, install the package with: `pip install huggingface_hub[hf_xet]` or `pip install hf_xet`\n",
            "pytorch_model.bin: 100% 54.4M/54.4M [00:00<00:00, 152MB/s]\n",
            "model_1250000.safetensors: 100% 1.35G/1.35G [00:05<00:00, 229MB/s]\n",
            "\n",
            "vocab :  /usr/local/lib/python3.11/dist-packages/f5_tts/infer/examples/vocab.txt\n",
            "token :  custom\n",
            "model :  /root/.cache/huggingface/hub/models--SWivid--F5-TTS/snapshots/84e5a410d9cead4de2f847e7c9369a6440bdfaca/F5TTS_v1_Base/model_1250000.safetensors \n",
            "\n",
            "Starting app...\n",
            "* Running on local URL:  http://127.0.0.1:7860\n",
            "* Running on public URL: https://d31091eee4d67cb823.gradio.live\n",
            "\n",
            "This share link expires in 1 week. For free permanent hosting and GPU upgrades, run `gradio deploy` from the terminal in the working directory to deploy to Hugging Face Spaces (https://huggingface.co/spaces)\n",
            "config.json: 100% 1.26k/1.26k [00:00<00:00, 7.07MB/s]\n",
            "model.safetensors: 100% 1.62G/1.62G [00:08<00:00, 193MB/s]\n",
            "generation_config.json: 100% 3.77k/3.77k [00:00<00:00, 20.9MB/s]\n",
            "tokenizer_config.json: 100% 283k/283k [00:00<00:00, 10.7MB/s]\n",
            "vocab.json: 100% 1.04M/1.04M [00:00<00:00, 7.45MB/s]\n",
            "tokenizer.json: 100% 2.71M/2.71M [00:00<00:00, 9.13MB/s]\n",
            "merges.txt: 100% 494k/494k [00:00<00:00, 3.53MB/s]\n",
            "normalizer.json: 100% 52.7k/52.7k [00:00<00:00, 55.0MB/s]\n",
            "added_tokens.json: 100% 34.6k/34.6k [00:00<00:00, 119MB/s]\n",
            "special_tokens_map.json: 100% 2.19k/2.19k [00:00<00:00, 19.9MB/s]\n",
            "preprocessor_config.json: 100% 340/340 [00:00<00:00, 2.65MB/s]\n",
            "Device set to use cuda\n",
            "/usr/local/lib/python3.11/dist-packages/transformers/models/whisper/generation_whisper.py:573: FutureWarning: The input name `inputs` is deprecated. Please make sure to use `input_features` instead.\n",
            "  warnings.warn(\n",
            "You have passed task=transcribe, but also have set `forced_decoder_ids` to [[1, None], [2, 50360]] which creates a conflict. `forced_decoder_ids` will be ignored in favor of task=transcribe.\n",
            "The attention mask is not set and cannot be inferred from input because pad token is same as eos token. As a consequence, you may observe unexpected behavior. Please pass your input's `attention_mask` to obtain reliable results.\n",
            "\n",
            "ref_text   宁波日报还是那个哪个人在搜宁波日报是红唐那个邮递员吗各道没有用我直接跟那边他们上面反映一下好了. \n",
            "gen_text 0 我不敢相信我眼睛看到的，我看到女朋友故露危正穿着小的可怜的肉色比基尼，\n",
            "gen_text 1 她身上似乎涂抹了油一般油光发亮，在灯光的照射下可以清楚的看到她浑圆的臀肉和股沟。\n",
            "gen_text 2 此时她正骑在一个裸体的男人身上，而那个男人居然就是我岳父――故露危的爸爸。它已经很硬了，\n",
            "gen_text 3 爸爸。故露危放荡的用手托起自己硕大的双乳搓揉着，\n",
            "gen_text 4 一边用穿着薄如蝉翼的比基尼的阴户来回摩擦她爸爸的肉棒。岳父的肉棒看起来又粗又硬，\n",
            "gen_text 5 很难想像这是个中年人的鸡巴。难怪故露危这么迷恋他。我头脑一片混乱，\n",
            "gen_text 6 我的老婆居然和她爸爸乱伦。我决定继续观察下去，看看他们父女到底到了什么程度。好了，\n",
            "gen_text 7 我要尝尝它，故露危往后退了点，翘着浑圆的屁股，她的屁股正好对着门，\n",
            "gen_text 8 她俯下头埋到她爸爸的胯间。从房间镜子的反射我可以看到故露危用手握着她爸爸肉棒的根部套弄着，\n",
            "gen_text 9 她的眼睛盯着爸爸的脸，我从没在她眼里看过这么淫荡的表情。喔～岳父发出舒服的声音，\n",
            "gen_text 10 龟头的马眼渗出一滴精液，故露危轻佻的伸出香舌把它舔去。\n",
            "gen_text 11 然后她的嘴唇和舌头开始绕着爸爸的龟头吸吮，嘖嘖，岳父的龟头变得湿漉漉的油光发亮。\n",
            "gen_text 12 故露危一隻手伸过大腿间放到了自己的阴户上，她隔着叁角裤揉搓着自己的阴唇，喉间发出嗯，\n",
            "gen_text 13 嗯的呻吟声。故露危摇动肥臀呻吟，感觉很快就要高潮，啊啊啊舒服，好舒服，啊啊啊舒服死了，\n",
            "gen_text 14 啊啊啊快抓紧我的奶子，岳父用手解开女儿故露危的文胸，\n",
            "gen_text 15 他一隻手握住故露危硕大的乳房用力挤压搓揉，故露危呻吟着啊啊啊快抓紧我的奶子，\n",
            "gen_text 16 食指挑逗着故露危的乳尖，故露危的乳头想喷了冷水般马上硬挺了起来，\n",
            "gen_text 17 故露危呻吟着啊啊啊快抓紧我的奶子，\n",
            "gen_text 18 啊啊啊快抓紧我的奶子啊啊啊快抓紧我的奶子啊啊啊快抓紧我的奶子岳父另一隻手按着故露危的头，\n",
            "gen_text 19 故露危明白她爸爸现在需要什么，她把爸爸的整个肉棒含入口中，头部不断的上下摆动，\n",
            "gen_text 20 用她的肉唇套弄着她爸爸的大鸡巴。岳父又粗又长的鸡巴几乎把故露危的嘴都塞满了，\n",
            "gen_text 21 故露危的嘴巴几乎碰到她爸爸的阴毛，看起来她的口交技术很不错。\n",
            "\n",
            "\n",
            "/usr/local/lib/python3.11/dist-packages/gradio/processing_utils.py:753: UserWarning: Trying to convert audio automatically from float64 to 16-bit int format.\n",
            "  warnings.warn(warning.format(data.dtype))\n"
          ]
        }
      ],
      "source": [
        "!f5-tts_infer-gradio --share"
      ]
    }
  ]
}